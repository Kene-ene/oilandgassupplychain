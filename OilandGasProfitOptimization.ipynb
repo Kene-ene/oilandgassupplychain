{
  "nbformat": 4,
  "nbformat_minor": 0,
  "metadata": {
    "colab": {
      "provenance": [],
      "authorship_tag": "ABX9TyMtLcIYLhb6+YXq+Le/BFQz",
      "include_colab_link": true
    },
    "kernelspec": {
      "name": "python3",
      "display_name": "Python 3"
    },
    "language_info": {
      "name": "python"
    }
  },
  "cells": [
    {
      "cell_type": "markdown",
      "metadata": {
        "id": "view-in-github",
        "colab_type": "text"
      },
      "source": [
        "<a href=\"https://colab.research.google.com/github/Kene-ene/oilandgassupplychain/blob/main/OilandGasProfitOptimization.ipynb\" target=\"_parent\"><img src=\"https://colab.research.google.com/assets/colab-badge.svg\" alt=\"Open In Colab\"/></a>"
      ]
    },
    {
      "cell_type": "code",
      "execution_count": 37,
      "metadata": {
        "colab": {
          "base_uri": "https://localhost:8080/"
        },
        "id": "tTRR5U9adZd6",
        "outputId": "6f7f74f1-eaa2-4532-a72a-1debcdde8111"
      },
      "outputs": [
        {
          "output_type": "stream",
          "name": "stdout",
          "text": [
            "Requirement already satisfied: z3-solver in /root/.local/lib/python3.10/site-packages (4.13.4.0)\n",
            "Requirement already satisfied: pyomo in /usr/local/lib/python3.10/dist-packages (6.8.2)\n",
            "Requirement already satisfied: ply in /usr/local/lib/python3.10/dist-packages (from pyomo) (3.11)\n"
          ]
        }
      ],
      "source": [
        "# Import Packages\n",
        "! pip install --user z3-solver\n",
        "!apt-get install -y -qq glpk-utils\n",
        "! pip install pyomo\n",
        "from pyomo.environ import* #Pyomo Optimization Modeling Packagge\n",
        "import numpy as np\n",
        "#python3 -m pip install --upgrade --user ortools\n",
        "#from ortools.linear_solver import pywraplp\n",
        "#brew install glpk\n",
        "\n",
        "#!pip install pyomo\n",
        "#!apt install glpk-utils\n",
        "#!pip install glpk"
      ]
    },
    {
      "cell_type": "code",
      "source": [
        "# Refinery Problem Data\n",
        "FEEDS = ['Crude #1', 'Crude #2']\n",
        "PRODUCTS = ['Gasoline', 'Kerosine', 'Fuel Oil', 'Residual']\n",
        "\n",
        "# Feed Costs\n",
        "feed_costs = {\n",
        "    'Crude #1': 48,\n",
        "    'Crude #2': 30\n",
        "}\n",
        "\n",
        "# Processing Costs\n",
        "processing_costs = {\n",
        "    'Crude #1': 1.00,\n",
        "    'Crude #2': 2.00\n",
        "}\n",
        "\n",
        "# Yield Data\n",
        "product_yield = {\n",
        "    ('Crude #1', 'Gasoline'): 0.80,\n",
        "    ('Crude #1', 'Kerosine'): 0.05,\n",
        "    ('Crude #1', 'Fuel Oil'): 0.10,\n",
        "    ('Crude #1', 'Residual'): 0.05,\n",
        "    ('Crude #2', 'Gasoline'): 0.44,\n",
        "    ('Crude #2', 'Kerosine'): 0.10,\n",
        "    ('Crude #2', 'Fuel Oil'): 0.36,\n",
        "    ('Crude #2', 'Residual'): 0.10,\n",
        "}\n",
        "\n",
        "# Product Sales Prices\n",
        "sales_price = {\n",
        "    'Gasoline': 72,\n",
        "    'Kerosine': 48,\n",
        "    'Fuel Oil': 42,\n",
        "    'Residual': 20\n",
        "}\n",
        "\n",
        "# Production Limits\n",
        "max_production = {\n",
        "    'Gasoline': 24000,\n",
        "    'Kerosine': 2000,\n",
        "    'Fuel Oil': 6000,\n",
        "    'Residual': 100000\n",
        "}"
      ],
      "metadata": {
        "id": "caY9jYOZdzE3"
      },
      "execution_count": 38,
      "outputs": []
    },
    {
      "cell_type": "code",
      "source": [
        "# Model Formulation\n",
        "model = ConcreteModel()\n",
        "\n",
        "# Variables\n",
        "model.x = Var(FEEDS, domain = NonNegativeReals)\n",
        "model.y = Var(PRODUCTS, domain = NonNegativeReals)\n",
        "\n",
        "# Objective Function\n",
        "income = sum(sales_price[p] * model.y[p] for p in PRODUCTS)\n",
        "raw_materials_cost = sum(feed_costs[f] * model.x[f] for f in FEEDS)\n",
        "processing_cost = sum(processing_costs[f] * model.x[f] for f in FEEDS)\n",
        "\n",
        "profit = income - raw_materials_cost - processing_cost\n",
        "model.objective = Objective(expr = profit, sense = maximize)\n",
        "\n",
        "# Constraints\n",
        "model.constraints = ConstraintList()\n",
        "for p in PRODUCTS:\n",
        "  model.constraints.add (model.y[p] >= 0)\n",
        "  model.constraints.add (model.y[p] <= max_production[p])\n",
        "for p in PRODUCTS:\n",
        "  model.constraints.add(model.y[p] == sum(model.x[f] * product_yield[(f,p)] for f in FEEDS))"
      ],
      "metadata": {
        "id": "WrFspWvofLpD"
      },
      "execution_count": 39,
      "outputs": []
    },
    {
      "cell_type": "code",
      "source": [
        "# Solve the Model using GLPK\n",
        "\n",
        "from pyomo.environ import SolverFactory\n",
        "results = SolverFactory('glpk', executable = '/usr/bin/glpsol').solve(model)\n",
        "#solver = pywraplp.Solver.CreateSolver('GLOP')\n",
        "#results = solver.solve(model)\n",
        "results.write()\n",
        "if results.solver.status:\n",
        "  model.pprint()"
      ],
      "metadata": {
        "colab": {
          "base_uri": "https://localhost:8080/"
        },
        "id": "XGkpqV7ciisK",
        "outputId": "56afbb88-080f-4679-81ae-2860223c8e11"
      },
      "execution_count": 40,
      "outputs": [
        {
          "output_type": "stream",
          "name": "stdout",
          "text": [
            "# ==========================================================\n",
            "# = Solver Results                                         =\n",
            "# ==========================================================\n",
            "# ----------------------------------------------------------\n",
            "#   Problem Information\n",
            "# ----------------------------------------------------------\n",
            "Problem: \n",
            "- Name: unknown\n",
            "  Lower bound: 573517.24137931\n",
            "  Upper bound: 573517.24137931\n",
            "  Number of objectives: 1\n",
            "  Number of constraints: 12\n",
            "  Number of variables: 6\n",
            "  Number of nonzeros: 20\n",
            "  Sense: maximize\n",
            "# ----------------------------------------------------------\n",
            "#   Solver Information\n",
            "# ----------------------------------------------------------\n",
            "Solver: \n",
            "- Status: ok\n",
            "  Termination condition: optimal\n",
            "  Statistics: \n",
            "    Branch and bound: \n",
            "      Number of bounded subproblems: 0\n",
            "      Number of created subproblems: 0\n",
            "  Error rc: 0\n",
            "  Time: 0.00673985481262207\n",
            "# ----------------------------------------------------------\n",
            "#   Solution Information\n",
            "# ----------------------------------------------------------\n",
            "Solution: \n",
            "- number of solutions: 0\n",
            "  number of solutions displayed: 0\n",
            "2 Var Declarations\n",
            "    x : Size=2, Index={Crude #1, Crude #2}\n",
            "        Key      : Lower : Value            : Upper : Fixed : Stale : Domain\n",
            "        Crude #1 :     0 : 26206.8965517241 :  None : False : False : NonNegativeReals\n",
            "        Crude #2 :     0 : 6896.55172413793 :  None : False : False : NonNegativeReals\n",
            "    y : Size=4, Index={Gasoline, Kerosine, Fuel Oil, Residual}\n",
            "        Key      : Lower : Value            : Upper : Fixed : Stale : Domain\n",
            "        Fuel Oil :     0 : 5103.44827586207 :  None : False : False : NonNegativeReals\n",
            "        Gasoline :     0 :          24000.0 :  None : False : False : NonNegativeReals\n",
            "        Kerosine :     0 :           2000.0 :  None : False : False : NonNegativeReals\n",
            "        Residual :     0 :           2000.0 :  None : False : False : NonNegativeReals\n",
            "\n",
            "1 Objective Declarations\n",
            "    objective : Size=1, Index=None, Active=True\n",
            "        Key  : Active : Sense    : Expression\n",
            "        None :   True : maximize : 72*y[Gasoline] + 48*y[Kerosine] + 42*y[Fuel Oil] + 20*y[Residual] - (48*x[Crude #1] + 30*x[Crude #2]) - (x[Crude #1] + 2.0*x[Crude #2])\n",
            "\n",
            "1 Constraint Declarations\n",
            "    constraints : Size=12, Index={1, 2, 3, 4, 5, 6, 7, 8, 9, 10, 11, 12}, Active=True\n",
            "        Key : Lower : Body                                               : Upper    : Active\n",
            "          1 :   0.0 :                                        y[Gasoline] :     +Inf :   True\n",
            "          2 :  -Inf :                                        y[Gasoline] :  24000.0 :   True\n",
            "          3 :   0.0 :                                        y[Kerosine] :     +Inf :   True\n",
            "          4 :  -Inf :                                        y[Kerosine] :   2000.0 :   True\n",
            "          5 :   0.0 :                                        y[Fuel Oil] :     +Inf :   True\n",
            "          6 :  -Inf :                                        y[Fuel Oil] :   6000.0 :   True\n",
            "          7 :   0.0 :                                        y[Residual] :     +Inf :   True\n",
            "          8 :  -Inf :                                        y[Residual] : 100000.0 :   True\n",
            "          9 :   0.0 : y[Gasoline] - (0.8*x[Crude #1] + 0.44*x[Crude #2]) :      0.0 :   True\n",
            "         10 :   0.0 : y[Kerosine] - (0.05*x[Crude #1] + 0.1*x[Crude #2]) :      0.0 :   True\n",
            "         11 :   0.0 : y[Fuel Oil] - (0.1*x[Crude #1] + 0.36*x[Crude #2]) :      0.0 :   True\n",
            "         12 :   0.0 : y[Residual] - (0.05*x[Crude #1] + 0.1*x[Crude #2]) :      0.0 :   True\n",
            "\n",
            "4 Declarations: x y objective constraints\n"
          ]
        }
      ]
    },
    {
      "cell_type": "code",
      "source": [
        "# Display Solution\n",
        "\n",
        "print('\\nProfit = ', model.objective())\n",
        "print('\\nDecision Variables')\n",
        "print('x = ', model.x['Crude #1'](), model.x['Crude #2']())"
      ],
      "metadata": {
        "colab": {
          "base_uri": "https://localhost:8080/"
        },
        "id": "7mrtoRQzhGAb",
        "outputId": "dc34f768-1176-4232-a694-b7622e3362cb"
      },
      "execution_count": 41,
      "outputs": [
        {
          "output_type": "stream",
          "name": "stdout",
          "text": [
            "\n",
            "Profit =  573517.241379312\n",
            "\n",
            "Decision Variables\n",
            "x =  26206.8965517241 6896.55172413793\n"
          ]
        }
      ]
    }
  ]
}